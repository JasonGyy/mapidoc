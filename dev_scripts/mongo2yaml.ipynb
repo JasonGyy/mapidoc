{
 "cells": [
  {
   "cell_type": "markdown",
   "metadata": {},
   "source": [
    "Write a YAML file based on fetching a material document that includes keys not currently accounted for by the API repository."
   ]
  },
  {
   "cell_type": "code",
   "execution_count": 2,
   "metadata": {},
   "outputs": [],
   "source": [
    "import json\n",
    "import os\n",
    "import yaml\n",
    "from bson.json_util import dumps as bson_dumps\n",
    "from mongogrant import Client\n",
    "\n",
    "client = Client()\n",
    "db = client.db(\"ro:prod/mp_emmet_prod\")"
   ]
  },
  {
   "cell_type": "code",
   "execution_count": 22,
   "metadata": {},
   "outputs": [
    {
     "data": {
      "text/plain": [
       "64902"
      ]
     },
     "execution_count": 22,
     "metadata": {},
     "output_type": "execute_result"
    }
   ],
   "source": [
    "db.materials.count_documents({\"has\": {\"$exists\": False}})"
   ]
  },
  {
   "cell_type": "code",
   "execution_count": 29,
   "metadata": {},
   "outputs": [],
   "source": [
    "props = list(filter(None, db.materials.distinct(\"has\")))\n",
    "props_remaining = list(props)\n",
    "docs = []\n",
    "while props_remaining:\n",
    "    doc_with_most_props = list(db.materials.aggregate([\n",
    "        {\"$match\": {\"has\": {\"$in\": props_remaining}}},\n",
    "        {\"$project\": {\"task_id\": 1,\n",
    "                      \"has\": 1,\n",
    "                      \"nhas\": {\"$cond\":\n",
    "                               {\"if\": {\"$isArray\": \"$has\" },\n",
    "                                \"then\": {\"$size\": \"$has\"},\n",
    "                                \"else\": 0}}}},\n",
    "        {\"$sort\": {\"nhas\": -1}},\n",
    "        {\"$limit\": 1}\n",
    "    ]))[0]\n",
    "    docs.append(doc_with_most_props)\n",
    "    props_remaining = list(set(props_remaining) - set(doc_with_most_props[\"has\"]))"
   ]
  },
  {
   "cell_type": "code",
   "execution_count": 30,
   "metadata": {},
   "outputs": [
    {
     "data": {
      "text/plain": [
       "[{'_id': ObjectId('5c08c4c2277e2b8e3aa9189c'),\n",
       "  'task_id': 'mp-20351',\n",
       "  'has': ['xas',\n",
       "   'elasticity',\n",
       "   'piezo',\n",
       "   'diel',\n",
       "   'phonons',\n",
       "   'bandstructure',\n",
       "   'eos'],\n",
       "  'nhas': 7},\n",
       " {'_id': ObjectId('5c08c4f1277e2b8e3aa933f6'),\n",
       "  'task_id': 'mp-19',\n",
       "  'has': ['xas',\n",
       "   'elasticity',\n",
       "   'piezo',\n",
       "   'surfaces',\n",
       "   'diel',\n",
       "   'bandstructure',\n",
       "   'eos'],\n",
       "  'nhas': 7}]"
      ]
     },
     "execution_count": 30,
     "metadata": {},
     "output_type": "execute_result"
    }
   ],
   "source": [
    "docs"
   ]
  },
  {
   "cell_type": "code",
   "execution_count": 31,
   "metadata": {},
   "outputs": [],
   "source": [
    "for mid in [d[\"task_id\"] for d in docs]:\n",
    "    doc = json.loads(bson_dumps(db.materials.find_one({'task_id': mid})))\n",
    "\n",
    "    with open(f\"{mid}.yaml\", \"w\") as f:\n",
    "        yaml.safe_dump(doc, f, default_flow_style=False)"
   ]
  }
 ],
 "metadata": {
  "kernelspec": {
   "display_name": "Python 3.6 (emmet_dev)",
   "language": "python",
   "name": "emmet_dev"
  },
  "language_info": {
   "codemirror_mode": {
    "name": "ipython",
    "version": 3
   },
   "file_extension": ".py",
   "mimetype": "text/x-python",
   "name": "python",
   "nbconvert_exporter": "python",
   "pygments_lexer": "ipython3",
   "version": "3.6.7"
  }
 },
 "nbformat": 4,
 "nbformat_minor": 1
}
